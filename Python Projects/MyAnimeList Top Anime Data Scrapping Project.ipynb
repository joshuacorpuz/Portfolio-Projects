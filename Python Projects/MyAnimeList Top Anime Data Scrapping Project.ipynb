{
 "cells": [
  {
   "cell_type": "code",
   "execution_count": 4,
   "id": "78612380",
   "metadata": {},
   "outputs": [],
   "source": [
    "# importing libraries\n",
    "\n",
    "import requests \n",
    "from bs4 import BeautifulSoup \n",
    "import pandas as pd"
   ]
  },
  {
   "cell_type": "code",
   "execution_count": 5,
   "id": "221b7862",
   "metadata": {},
   "outputs": [
    {
     "data": {
      "text/plain": [
       "200"
      ]
     },
     "execution_count": 5,
     "metadata": {},
     "output_type": "execute_result"
    }
   ],
   "source": [
    "# Setting up website references and checking if the request succeeded\n",
    "\n",
    "site_url = 'https://myanimelist.net'\n",
    "response = requests.get(site_url)\n",
    "response.status_code"
   ]
  },
  {
   "cell_type": "code",
   "execution_count": null,
   "id": "9a671ab2",
   "metadata": {},
   "outputs": [],
   "source": []
  },
  {
   "cell_type": "code",
   "execution_count": 6,
   "id": "a16d60a1",
   "metadata": {},
   "outputs": [
    {
     "data": {
      "text/plain": [
       "bs4.BeautifulSoup"
      ]
     },
     "execution_count": 6,
     "metadata": {},
     "output_type": "execute_result"
    }
   ],
   "source": [
    "# Creating a beautiful soup object and checking if it worked correctly\n",
    "\n",
    "doc = BeautifulSoup(response.text)\n",
    "type(doc)"
   ]
  },
  {
   "cell_type": "code",
   "execution_count": null,
   "id": "40063926",
   "metadata": {},
   "outputs": [],
   "source": []
  },
  {
   "cell_type": "code",
   "execution_count": 7,
   "id": "a2bb4c6b",
   "metadata": {},
   "outputs": [],
   "source": [
    "# Accessing the top anime list webpage\n",
    "\n",
    "top_anime_url = site_url + '/topanime.php'\n",
    "response = requests.get(top_anime_url)\n",
    "doc = BeautifulSoup(response.text)"
   ]
  },
  {
   "cell_type": "code",
   "execution_count": null,
   "id": "c5c5f2af",
   "metadata": {},
   "outputs": [],
   "source": []
  },
  {
   "cell_type": "code",
   "execution_count": null,
   "id": "b78f4918",
   "metadata": {},
   "outputs": [],
   "source": []
  },
  {
   "cell_type": "code",
   "execution_count": 8,
   "id": "a443dd43",
   "metadata": {},
   "outputs": [
    {
     "data": {
      "text/plain": [
       "'Top Anime - MyAnimeList.net'"
      ]
     },
     "execution_count": 8,
     "metadata": {},
     "output_type": "execute_result"
    }
   ],
   "source": [
    "# Page Title\n",
    "\n",
    "doc.title.text.strip()"
   ]
  },
  {
   "cell_type": "code",
   "execution_count": 9,
   "id": "005c0c17",
   "metadata": {},
   "outputs": [
    {
     "data": {
      "text/plain": [
       "[<td class=\"rank\">Rank</td>,\n",
       " <td class=\"title\">Title</td>,\n",
       " <td class=\"score\">Score</td>,\n",
       " <td class=\"your-score\">Your Score</td>,\n",
       " <td class=\"status\">Status</td>]"
      ]
     },
     "execution_count": 9,
     "metadata": {},
     "output_type": "execute_result"
    }
   ],
   "source": [
    "# Finding all the column headers to use for future csv\n",
    "\n",
    "headers = doc.find('tr', class_ = 'table-header')\n",
    "headers.find_all('td') "
   ]
  },
  {
   "cell_type": "code",
   "execution_count": 10,
   "id": "269d3cf4",
   "metadata": {},
   "outputs": [
    {
     "data": {
      "text/plain": [
       "<tr class=\"ranking-list\">\n",
       "<td class=\"rank ac\" valign=\"top\">\n",
       "<span class=\"lightLink top-anime-rank-text rank1\">1</span>\n",
       "</td>\n",
       "<td class=\"title al va-t word-break\">\n",
       "<a class=\"hoverinfo_trigger fl-l ml12 mr8\" href=\"https://myanimelist.net/anime/5114/Fullmetal_Alchemist__Brotherhood\" id=\"#area5114\" rel=\"#info5114\">\n",
       "<img alt=\"Anime: Fullmetal Alchemist: Brotherhood\" border=\"0\" class=\"lazyload\" data-src=\"https://cdn.myanimelist.net/r/50x70/images/anime/1223/96541.jpg?s=faffcb677a5eacd17bf761edd78bfb3f\" data-srcset=\"https://cdn.myanimelist.net/r/50x70/images/anime/1223/96541.jpg?s=faffcb677a5eacd17bf761edd78bfb3f 1x, https://cdn.myanimelist.net/r/100x140/images/anime/1223/96541.jpg?s=0c3b98cf4905422c00981025cd20d271 2x\" height=\"70\" width=\"50\"/>\n",
       "</a>\n",
       "<div class=\"detail\"><div id=\"area5114\">\n",
       "<div class=\"hoverinfo\" id=\"info5114\" rel=\"a5114\"></div>\n",
       "</div>\n",
       "<div class=\"di-ib clearfix\"><h3 class=\"hoverinfo_trigger fl-l fs14 fw-b anime_ranking_h3\"><a href=\"https://myanimelist.net/anime/5114/Fullmetal_Alchemist__Brotherhood\" id=\"#area5114\" rel=\"#info5114\">Fullmetal Alchemist: Brotherhood</a></h3><div class=\"icon-watch2\"><a class=\"mal-icon ml8 ga-click\" href=\"https://myanimelist.net/anime/5114/Fullmetal_Alchemist__Brotherhood/video\" title=\"Watch Episode Video\"><i class=\"malicon malicon-movie-episode\"></i></a></div></div><br/><div class=\"information di-ib mt4\">\n",
       "        TV (64 eps)<br/>\n",
       "        Apr 2009 - Jul 2010<br/>\n",
       "        2,803,104 members\n",
       "      </div><div class=\"manga-store-information\">\n",
       "<a class=\"link\" href=\"https://myanimelist.net/store/manga_volume/2148/Fullmetal_Alchemist_Volume_1\">\n",
       "<i aria-hidden=\"true\" class=\"fa-solid fa-cart-shopping\"></i> <span class=\"fw-b\">Manga Store</span>\n",
       "<span class=\"volume\">Volume 1</span>\n",
       "<span class=\"price\">$8.99</span> </a><a class=\"button-preview\" href=\"https://myanimelist.net/store/viewer/1/2148/preview\" target=\"_blank\">Preview</a></div></div>\n",
       "</td>\n",
       "<td class=\"score ac fs14\"><div class=\"js-top-ranking-score-col di-ib al\"><i class=\"icon-score-star fa-solid fa-star mr4 on\"></i><span class=\"text on score-label score-9\">9.15</span></div>\n",
       "</td>\n",
       "<td class=\"your-score ac fs14\">\n",
       "<div class=\"js-top-ranking-your-score-col di-ib al\"> <a class=\"\" href=\"https://myanimelist.net/login.php?error=login_required&amp;from=%2Ftopanime.php\"><i class=\"icon-score-star fa-solid fa-star mr4\"></i><span class=\"text score-label score-na\">N/A</span></a>\n",
       "</div>\n",
       "</td>\n",
       "<td class=\"status ac\"> <a class=\"btn-addEdit-large btn-anime-watch-status js-anime-watch-status notinmylist\" href=\"https://myanimelist.net/login.php?error=login_required&amp;from=%2Ftopanime.php\"><i class=\"fa-solid fa-square-plus-o mr4\"></i>Add to list</a>\n",
       "</td>\n",
       "</tr>"
      ]
     },
     "execution_count": 10,
     "metadata": {},
     "output_type": "execute_result"
    }
   ],
   "source": [
    "# Finding the content of each row and checking what is inside each of the returned objects\n",
    "\n",
    "row_content = doc.find_all('tr', {'class' : \"ranking-list\"})\n",
    "row_content[0]"
   ]
  },
  {
   "cell_type": "code",
   "execution_count": 11,
   "id": "c6a9e9f6",
   "metadata": {},
   "outputs": [
    {
     "data": {
      "text/plain": [
       "'1'"
      ]
     },
     "execution_count": 11,
     "metadata": {},
     "output_type": "execute_result"
    }
   ],
   "source": [
    "# Finding the rank of a specific row content\n",
    "\n",
    "row_content[0].find('td', class_ = \"rank ac\").find('span').text"
   ]
  },
  {
   "cell_type": "code",
   "execution_count": 12,
   "id": "bf7d262a",
   "metadata": {},
   "outputs": [
    {
     "data": {
      "text/plain": [
       "'Fullmetal Alchemist: Brotherhood'"
      ]
     },
     "execution_count": 12,
     "metadata": {},
     "output_type": "execute_result"
    }
   ],
   "source": [
    "# Finding the show title of a specific row content\n",
    "\n",
    "row_content[0].find('div', class_=\"di-ib clearfix\").find('a').text"
   ]
  },
  {
   "cell_type": "code",
   "execution_count": 13,
   "id": "cecfbb4f",
   "metadata": {},
   "outputs": [
    {
     "data": {
      "text/plain": [
       "'9.15'"
      ]
     },
     "execution_count": 13,
     "metadata": {},
     "output_type": "execute_result"
    }
   ],
   "source": [
    "# Finding the Score of a specific row content\n",
    "\n",
    "row_content[0].find('td', class_=\"score ac fs14\").find('span').text"
   ]
  },
  {
   "cell_type": "code",
   "execution_count": 14,
   "id": "857ba7b6",
   "metadata": {},
   "outputs": [
    {
     "data": {
      "text/plain": [
       "'https://myanimelist.net/anime/5114/Fullmetal_Alchemist__Brotherhood'"
      ]
     },
     "execution_count": 14,
     "metadata": {},
     "output_type": "execute_result"
    }
   ],
   "source": [
    "# Finding the anime page URL of a specific row content\n",
    "\n",
    "row_content[0].find('div', class_ ='di-ib clearfix').find('a')['href']"
   ]
  },
  {
   "cell_type": "code",
   "execution_count": 15,
   "id": "2c54f025",
   "metadata": {},
   "outputs": [
    {
     "data": {
      "text/plain": [
       "'https://cdn.myanimelist.net/r/50x70/images/anime/1223/96541.jpg?s=faffcb677a5eacd17bf761edd78bfb3f'"
      ]
     },
     "execution_count": 15,
     "metadata": {},
     "output_type": "execute_result"
    }
   ],
   "source": [
    "# Finding the image URL of a specific row content\n",
    "\n",
    "row_content[0].find('td', class_ ='title al va-t word-break').find('img')['data-src']"
   ]
  },
  {
   "cell_type": "code",
   "execution_count": 16,
   "id": "fd8ce06f",
   "metadata": {},
   "outputs": [
    {
     "data": {
      "text/plain": [
       "['TV (64 eps)', '        Apr 2009 - Jul 2010', '        2,803,104 members']"
      ]
     },
     "execution_count": 16,
     "metadata": {},
     "output_type": "execute_result"
    }
   ],
   "source": [
    "# Finding the episodes and release date\n",
    "\n",
    "var = row_content[0].find('div', class_ = \"information di-ib mt4\").text.strip().split(\"\\n\")\n",
    "var"
   ]
  },
  {
   "cell_type": "code",
   "execution_count": 17,
   "id": "9c4610b0",
   "metadata": {},
   "outputs": [],
   "source": [
    "# Extracting only the first two entries of the list called var from the last line\n",
    "\n",
    "def parse_episodes(info):\n",
    "    result = []\n",
    "    for i in info[:2]:\n",
    "        r = i.strip()\n",
    "        result.append(r)\n",
    "    return result"
   ]
  },
  {
   "cell_type": "code",
   "execution_count": 18,
   "id": "8aea4737",
   "metadata": {},
   "outputs": [
    {
     "data": {
      "text/plain": [
       "['TV (64 eps)', 'Apr 2009 - Jul 2010']"
      ]
     },
     "execution_count": 18,
     "metadata": {},
     "output_type": "execute_result"
    }
   ],
   "source": [
    "# Returns a list containing the type of anime, number of episodes, and release date\n",
    "\n",
    "parse_episodes(var)"
   ]
  },
  {
   "cell_type": "code",
   "execution_count": 19,
   "id": "19cc7d99",
   "metadata": {},
   "outputs": [],
   "source": [
    "# Creating a dictionary for each of the anime entries that contain their rank, title, rating, anime information page URL,\n",
    "# image URL, Number of episodes, and release date, then adding them to a list\n",
    "\n",
    "top_anime = []\n",
    "for row in row_content:\n",
    "    episode = parse_episodes(row.find('div', class_ = \"information di-ib mt4\").text.strip().split('\\n'))\n",
    "    ranking = {\n",
    "        'Rank' : row.find('td', class_ = \"rank ac\").find('span').text,\n",
    "        'Title': row.find('div', class_=\"di-ib clearfix\").find('a').text,\n",
    "        'Rating': row.find('td', class_=\"score ac fs14\").find('span').text,\n",
    "        'Anime_Page_URL': row_content[0].find('div', class_ ='di-ib clearfix').find('a')['href'],\n",
    "        'Image_URL': row.find('td', class_ ='title al va-t word-break').find('img')['data-src'],\n",
    "        'Episodes': episode[0],\n",
    "        'Dates': episode[1]\n",
    "    }\n",
    "    top_anime.append(ranking)"
   ]
  },
  {
   "cell_type": "code",
   "execution_count": 20,
   "id": "806cd169",
   "metadata": {},
   "outputs": [],
   "source": [
    "# Creating a method that creates csv that contains all of the information in the list created from the list created before\n",
    "\n",
    "def write_csv(items, path):\n",
    "    # Open the file in write mode\n",
    "    with open(path, 'w', encoding = 'utf-8') as f:\n",
    "        # Return if there's nothing to write\n",
    "        if len(items) == 0:\n",
    "            return\n",
    "        \n",
    "        # Write the headers in the first line\n",
    "        headers = list(items[0].keys())\n",
    "        f.write(','.join(headers) + '\\n')\n",
    "        \n",
    "        # Write one item per line\n",
    "        for item in items:\n",
    "            values = []\n",
    "            for header in headers:\n",
    "                values.append(str(item.get(header, \"\")))\n",
    "            f.write(','.join(values) + \"\\n\")"
   ]
  },
  {
   "cell_type": "code",
   "execution_count": 21,
   "id": "d5404833",
   "metadata": {},
   "outputs": [],
   "source": [
    "# Executing the method to create a csv\n",
    "\n",
    "write_csv(top_anime, 'top_anime.csv')"
   ]
  },
  {
   "cell_type": "code",
   "execution_count": null,
   "id": "00f00c7a",
   "metadata": {},
   "outputs": [],
   "source": []
  }
 ],
 "metadata": {
  "kernelspec": {
   "display_name": "Python 3 (ipykernel)",
   "language": "python",
   "name": "python3"
  },
  "language_info": {
   "codemirror_mode": {
    "name": "ipython",
    "version": 3
   },
   "file_extension": ".py",
   "mimetype": "text/x-python",
   "name": "python",
   "nbconvert_exporter": "python",
   "pygments_lexer": "ipython3",
   "version": "3.9.7"
  }
 },
 "nbformat": 4,
 "nbformat_minor": 5
}
